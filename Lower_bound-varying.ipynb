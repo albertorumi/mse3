{
 "cells": [
  {
   "cell_type": "code",
   "execution_count": 1,
   "id": "fcaaae08",
   "metadata": {},
   "outputs": [],
   "source": [
    "%load_ext autoreload\n",
    "%autoreload 2\n",
    "import numpy as np\n",
    "import matplotlib.pyplot as plt\n",
    "from tqdm.auto import tqdm\n",
    "\n",
    "from src.EXPM import EXPM\n",
    "from src.CascadeBandit import CascadeBandit\n",
    "from src.UCB import UCBM\n",
    "from env.bandit_env import MAB_Bernoulli\n",
    "from env.movielens_env import Movielens\n",
    "from src.bandit_utils import play_all"
   ]
  },
  {
   "cell_type": "code",
   "execution_count": 2,
   "id": "807de82f",
   "metadata": {
    "scrolled": false
   },
   "outputs": [
    {
     "data": {
      "application/vnd.jupyter.widget-view+json": {
       "model_id": "dc9b3c3a281b4ac588bba70fba52c5aa",
       "version_major": 2,
       "version_minor": 0
      },
      "text/plain": [
       "  0%|          | 0/9 [00:00<?, ?it/s]"
      ]
     },
     "metadata": {},
     "output_type": "display_data"
    },
    {
     "data": {
      "application/vnd.jupyter.widget-view+json": {
       "model_id": "31533af61e8048f2a2e6cb2213ea1256",
       "version_major": 2,
       "version_minor": 0
      },
      "text/plain": [
       "Training agent ComBand:   0%|          | 0/10 [00:00<?, ?it/s]"
      ]
     },
     "metadata": {},
     "output_type": "display_data"
    },
    {
     "data": {
      "application/vnd.jupyter.widget-view+json": {
       "model_id": "bf7148dcdb8a4802a8a4640b4181ea85",
       "version_major": 2,
       "version_minor": 0
      },
      "text/plain": [
       "Training agent MSE3:   0%|          | 0/10 [00:00<?, ?it/s]"
      ]
     },
     "metadata": {},
     "output_type": "display_data"
    },
    {
     "data": {
      "application/vnd.jupyter.widget-view+json": {
       "model_id": "4f8243da37ca4252878757a23666b25d",
       "version_major": 2,
       "version_minor": 0
      },
      "text/plain": [
       "Training agent Casc-UCB:   0%|          | 0/10 [00:00<?, ?it/s]"
      ]
     },
     "metadata": {},
     "output_type": "display_data"
    },
    {
     "data": {
      "application/vnd.jupyter.widget-view+json": {
       "model_id": "3f6b9ded1d7c4c468aa802b7c2821204",
       "version_major": 2,
       "version_minor": 0
      },
      "text/plain": [
       "Training agent Casc-KL-UCB:   0%|          | 0/10 [00:00<?, ?it/s]"
      ]
     },
     "metadata": {},
     "output_type": "display_data"
    },
    {
     "data": {
      "application/vnd.jupyter.widget-view+json": {
       "model_id": "94110ee648fa490b87a252811fd65339",
       "version_major": 2,
       "version_minor": 0
      },
      "text/plain": [
       "Training agent ComBand:   0%|          | 0/10 [00:00<?, ?it/s]"
      ]
     },
     "metadata": {},
     "output_type": "display_data"
    },
    {
     "data": {
      "application/vnd.jupyter.widget-view+json": {
       "model_id": "f75824c4ffa34491978f51b2be9761e0",
       "version_major": 2,
       "version_minor": 0
      },
      "text/plain": [
       "Training agent MSE3:   0%|          | 0/10 [00:00<?, ?it/s]"
      ]
     },
     "metadata": {},
     "output_type": "display_data"
    },
    {
     "data": {
      "application/vnd.jupyter.widget-view+json": {
       "model_id": "69802e8db70f4dd5a63f7125521b9379",
       "version_major": 2,
       "version_minor": 0
      },
      "text/plain": [
       "Training agent Casc-UCB:   0%|          | 0/10 [00:00<?, ?it/s]"
      ]
     },
     "metadata": {},
     "output_type": "display_data"
    },
    {
     "data": {
      "application/vnd.jupyter.widget-view+json": {
       "model_id": "4396399cd6ee473ab238ef89a6d711ec",
       "version_major": 2,
       "version_minor": 0
      },
      "text/plain": [
       "Training agent Casc-KL-UCB:   0%|          | 0/10 [00:00<?, ?it/s]"
      ]
     },
     "metadata": {},
     "output_type": "display_data"
    },
    {
     "data": {
      "application/vnd.jupyter.widget-view+json": {
       "model_id": "35ce9ebfff9f48d9aab58aff09072c50",
       "version_major": 2,
       "version_minor": 0
      },
      "text/plain": [
       "Training agent ComBand:   0%|          | 0/10 [00:00<?, ?it/s]"
      ]
     },
     "metadata": {},
     "output_type": "display_data"
    },
    {
     "data": {
      "application/vnd.jupyter.widget-view+json": {
       "model_id": "8d7266bb2e1a4ee9befe6a31009f8db3",
       "version_major": 2,
       "version_minor": 0
      },
      "text/plain": [
       "Training agent MSE3:   0%|          | 0/10 [00:00<?, ?it/s]"
      ]
     },
     "metadata": {},
     "output_type": "display_data"
    },
    {
     "data": {
      "application/vnd.jupyter.widget-view+json": {
       "model_id": "24315e7d15ce40d3b0ae5bbafce068f3",
       "version_major": 2,
       "version_minor": 0
      },
      "text/plain": [
       "Training agent Casc-UCB:   0%|          | 0/10 [00:00<?, ?it/s]"
      ]
     },
     "metadata": {},
     "output_type": "display_data"
    },
    {
     "data": {
      "application/vnd.jupyter.widget-view+json": {
       "model_id": "072b5a027db04291bd78eb4c6beafe50",
       "version_major": 2,
       "version_minor": 0
      },
      "text/plain": [
       "Training agent Casc-KL-UCB:   0%|          | 0/10 [00:00<?, ?it/s]"
      ]
     },
     "metadata": {},
     "output_type": "display_data"
    },
    {
     "data": {
      "application/vnd.jupyter.widget-view+json": {
       "model_id": "9f2063ae04264f05b6d165cc0d88e56b",
       "version_major": 2,
       "version_minor": 0
      },
      "text/plain": [
       "Training agent ComBand:   0%|          | 0/10 [00:00<?, ?it/s]"
      ]
     },
     "metadata": {},
     "output_type": "display_data"
    },
    {
     "data": {
      "application/vnd.jupyter.widget-view+json": {
       "model_id": "6373fb153ae94458b055b9a60fb49b69",
       "version_major": 2,
       "version_minor": 0
      },
      "text/plain": [
       "Training agent MSE3:   0%|          | 0/10 [00:00<?, ?it/s]"
      ]
     },
     "metadata": {},
     "output_type": "display_data"
    },
    {
     "data": {
      "application/vnd.jupyter.widget-view+json": {
       "model_id": "f7c9785ea83b47078e653edd1c5de2a7",
       "version_major": 2,
       "version_minor": 0
      },
      "text/plain": [
       "Training agent Casc-UCB:   0%|          | 0/10 [00:00<?, ?it/s]"
      ]
     },
     "metadata": {},
     "output_type": "display_data"
    },
    {
     "data": {
      "application/vnd.jupyter.widget-view+json": {
       "model_id": "cdce3b6f14124a46883be33a5ade6fb4",
       "version_major": 2,
       "version_minor": 0
      },
      "text/plain": [
       "Training agent Casc-KL-UCB:   0%|          | 0/10 [00:00<?, ?it/s]"
      ]
     },
     "metadata": {},
     "output_type": "display_data"
    },
    {
     "data": {
      "application/vnd.jupyter.widget-view+json": {
       "model_id": "40bd7ce67dd246e9a5fa4cb393b38808",
       "version_major": 2,
       "version_minor": 0
      },
      "text/plain": [
       "Training agent ComBand:   0%|          | 0/10 [00:00<?, ?it/s]"
      ]
     },
     "metadata": {},
     "output_type": "display_data"
    },
    {
     "data": {
      "application/vnd.jupyter.widget-view+json": {
       "model_id": "ee7172d8e03743e6b7e7e5b85788862a",
       "version_major": 2,
       "version_minor": 0
      },
      "text/plain": [
       "Training agent MSE3:   0%|          | 0/10 [00:00<?, ?it/s]"
      ]
     },
     "metadata": {},
     "output_type": "display_data"
    },
    {
     "data": {
      "application/vnd.jupyter.widget-view+json": {
       "model_id": "7af02756f06742bcad70f57d1668faf5",
       "version_major": 2,
       "version_minor": 0
      },
      "text/plain": [
       "Training agent Casc-UCB:   0%|          | 0/10 [00:00<?, ?it/s]"
      ]
     },
     "metadata": {},
     "output_type": "display_data"
    },
    {
     "data": {
      "application/vnd.jupyter.widget-view+json": {
       "model_id": "8ecbbb67dabe480c811b3bd468ad76f8",
       "version_major": 2,
       "version_minor": 0
      },
      "text/plain": [
       "Training agent Casc-KL-UCB:   0%|          | 0/10 [00:00<?, ?it/s]"
      ]
     },
     "metadata": {},
     "output_type": "display_data"
    },
    {
     "data": {
      "application/vnd.jupyter.widget-view+json": {
       "model_id": "39956d6b94244212a15ecc67ea757daa",
       "version_major": 2,
       "version_minor": 0
      },
      "text/plain": [
       "Training agent ComBand:   0%|          | 0/10 [00:00<?, ?it/s]"
      ]
     },
     "metadata": {},
     "output_type": "display_data"
    },
    {
     "data": {
      "application/vnd.jupyter.widget-view+json": {
       "model_id": "1b0b7678a0834199b3779e7a4b8568ee",
       "version_major": 2,
       "version_minor": 0
      },
      "text/plain": [
       "Training agent MSE3:   0%|          | 0/10 [00:00<?, ?it/s]"
      ]
     },
     "metadata": {},
     "output_type": "display_data"
    },
    {
     "data": {
      "application/vnd.jupyter.widget-view+json": {
       "model_id": "a88b5155e6ad4f6e8ae841f306674ac4",
       "version_major": 2,
       "version_minor": 0
      },
      "text/plain": [
       "Training agent Casc-UCB:   0%|          | 0/10 [00:00<?, ?it/s]"
      ]
     },
     "metadata": {},
     "output_type": "display_data"
    },
    {
     "data": {
      "application/vnd.jupyter.widget-view+json": {
       "model_id": "d10fc3f2cbc840cd95009f980f1bf5db",
       "version_major": 2,
       "version_minor": 0
      },
      "text/plain": [
       "Training agent Casc-KL-UCB:   0%|          | 0/10 [00:00<?, ?it/s]"
      ]
     },
     "metadata": {},
     "output_type": "display_data"
    },
    {
     "data": {
      "application/vnd.jupyter.widget-view+json": {
       "model_id": "bc08c14249fe4203b73ffd70d72e2756",
       "version_major": 2,
       "version_minor": 0
      },
      "text/plain": [
       "Training agent ComBand:   0%|          | 0/10 [00:00<?, ?it/s]"
      ]
     },
     "metadata": {},
     "output_type": "display_data"
    },
    {
     "data": {
      "application/vnd.jupyter.widget-view+json": {
       "model_id": "642d2fb046f142e1ae92f1a3448fff53",
       "version_major": 2,
       "version_minor": 0
      },
      "text/plain": [
       "Training agent MSE3:   0%|          | 0/10 [00:00<?, ?it/s]"
      ]
     },
     "metadata": {},
     "output_type": "display_data"
    },
    {
     "data": {
      "application/vnd.jupyter.widget-view+json": {
       "model_id": "bb51291b6d3547cbb7ed9ab0394ac3c4",
       "version_major": 2,
       "version_minor": 0
      },
      "text/plain": [
       "Training agent Casc-UCB:   0%|          | 0/10 [00:00<?, ?it/s]"
      ]
     },
     "metadata": {},
     "output_type": "display_data"
    },
    {
     "data": {
      "application/vnd.jupyter.widget-view+json": {
       "model_id": "830dc089ddab46b6b45f24efb3f6f0ba",
       "version_major": 2,
       "version_minor": 0
      },
      "text/plain": [
       "Training agent Casc-KL-UCB:   0%|          | 0/10 [00:00<?, ?it/s]"
      ]
     },
     "metadata": {},
     "output_type": "display_data"
    },
    {
     "data": {
      "application/vnd.jupyter.widget-view+json": {
       "model_id": "eff63dd7e42048ba94a87d1130749fd7",
       "version_major": 2,
       "version_minor": 0
      },
      "text/plain": [
       "Training agent ComBand:   0%|          | 0/10 [00:00<?, ?it/s]"
      ]
     },
     "metadata": {},
     "output_type": "display_data"
    },
    {
     "data": {
      "application/vnd.jupyter.widget-view+json": {
       "model_id": "3235f50cdea3426486295fc1ae002906",
       "version_major": 2,
       "version_minor": 0
      },
      "text/plain": [
       "Training agent MSE3:   0%|          | 0/10 [00:00<?, ?it/s]"
      ]
     },
     "metadata": {},
     "output_type": "display_data"
    },
    {
     "data": {
      "application/vnd.jupyter.widget-view+json": {
       "model_id": "161ce08b2a2b4533b28a429c29cad1aa",
       "version_major": 2,
       "version_minor": 0
      },
      "text/plain": [
       "Training agent Casc-UCB:   0%|          | 0/10 [00:00<?, ?it/s]"
      ]
     },
     "metadata": {},
     "output_type": "display_data"
    },
    {
     "data": {
      "application/vnd.jupyter.widget-view+json": {
       "model_id": "4665559f2d4949ae9a7cf4d2fd9657d3",
       "version_major": 2,
       "version_minor": 0
      },
      "text/plain": [
       "Training agent Casc-KL-UCB:   0%|          | 0/10 [00:00<?, ?it/s]"
      ]
     },
     "metadata": {},
     "output_type": "display_data"
    },
    {
     "data": {
      "application/vnd.jupyter.widget-view+json": {
       "model_id": "bc15c63fe693474c91b931c2f355d6a2",
       "version_major": 2,
       "version_minor": 0
      },
      "text/plain": [
       "Training agent ComBand:   0%|          | 0/10 [00:00<?, ?it/s]"
      ]
     },
     "metadata": {},
     "output_type": "display_data"
    },
    {
     "data": {
      "application/vnd.jupyter.widget-view+json": {
       "model_id": "214091d4c0bf41e98b7ef7f9594bde27",
       "version_major": 2,
       "version_minor": 0
      },
      "text/plain": [
       "Training agent MSE3:   0%|          | 0/10 [00:00<?, ?it/s]"
      ]
     },
     "metadata": {},
     "output_type": "display_data"
    },
    {
     "data": {
      "application/vnd.jupyter.widget-view+json": {
       "model_id": "c4e1111fa6ec4b15ae66d5aff2462021",
       "version_major": 2,
       "version_minor": 0
      },
      "text/plain": [
       "Training agent Casc-UCB:   0%|          | 0/10 [00:00<?, ?it/s]"
      ]
     },
     "metadata": {},
     "output_type": "display_data"
    },
    {
     "data": {
      "application/vnd.jupyter.widget-view+json": {
       "model_id": "ae9f7ca0e6184a2eacd24d3a981a0cc5",
       "version_major": 2,
       "version_minor": 0
      },
      "text/plain": [
       "Training agent Casc-KL-UCB:   0%|          | 0/10 [00:00<?, ?it/s]"
      ]
     },
     "metadata": {},
     "output_type": "display_data"
    }
   ],
   "source": [
    "from env.adv_env import Bernoulli_adv_dependent\n",
    "from src.UCB import UCBM\n",
    "from src.comband import CombBand, _dumb_sampling\n",
    "\n",
    "rng = np.random.default_rng(seed = 42)\n",
    "T = 10_000\n",
    "N = 10\n",
    "K = 20\n",
    "\n",
    "res_list = []\n",
    "\n",
    "for M in tqdm([2,3,4,5,6,7,8,9,10]):    \n",
    "    env = Bernoulli_adv_dependent(K, M, T, seed = M)\n",
    "\n",
    "    expm = EXPM(K, M)\n",
    "    casc = CascadeBandit(K, M, method='UCB')\n",
    "    casc_kl = CascadeBandit(K, M, method='KL-UCB')\n",
    "    cb = CombBand(K,M,sampling_function=_dumb_sampling)\n",
    "    #\n",
    "    res = play_all(env, [cb, expm, casc, casc_kl], T, N, disable_tqdm_T = True)\n",
    "    res_list += [res]"
   ]
  },
  {
   "cell_type": "code",
   "execution_count": 17,
   "id": "61f6374b",
   "metadata": {},
   "outputs": [
    {
     "data": {
      "image/png": "[encoded data removed]",
      "text/plain": [
       "<Figure size 1000x600 with 1 Axes>"
      ]
     },
     "metadata": {},
     "output_type": "display_data"
    }
   ],
   "source": [
    "fig, ax = plt.subplots(figsize=(10, 6))\n",
    "tot = []\n",
    "\n",
    "colors = ['red', 'green', 'blue', 'purple']\n",
    "\n",
    "for en,i in enumerate(res_list):\n",
    "    for en2, (label, res_dict) in enumerate(i,1):\n",
    "        ind = (en * 4) + en2\n",
    "        data = np.cumsum(res_dict, axis=1)[:, -1]\n",
    "        tot += [data]\n",
    "\n",
    "        # Set color for the current subplot\n",
    "        color = colors[ind % len(colors)]\n",
    "\n",
    "        # Plot boxplot with specified color\n",
    "        ax.boxplot([data], positions=[ind], boxprops=dict(color=color))\n",
    "\n",
    "ax.set_ylabel(\"Cumulative Reward\", fontsize=15)\n",
    "ax.set_xticks(np.arange(len(tot)))\n",
    "#labels = [a for a,_ in res] * 10\n",
    "labels = [ [i,i,i,i] for i in range(2,11)]\n",
    "labels = np.array([item for sublist in labels for item in sublist])\n",
    "\n",
    "plt.xticks(\n",
    "    np.arange(4, len(labels)+4, 4), \n",
    "    np.arange(2,11)\n",
    ")\n",
    "\n",
    "legend_labels = [i for i,_ in res_list[0]]\n",
    "custom_legend = [plt.Line2D([0], [0], marker='o', color=color, label=label, linestyle='None') for label, color in zip(legend_labels, colors)]\n",
    "ax.legend(handles=custom_legend)\n",
    "\n",
    "fig.tight_layout()\n",
    "fig.savefig('./results/varying/lb_vary.pdf')"
   ]
  }
 ],
 "metadata": {
  "kernelspec": {
   "display_name": "Python 3 (ipykernel)",
   "language": "python",
   "name": "python3"
  },
  "language_info": {
   "codemirror_mode": {
    "name": "ipython",
    "version": 3
   },
   "file_extension": ".py",
   "mimetype": "text/x-python",
   "name": "python",
   "nbconvert_exporter": "python",
   "pygments_lexer": "ipython3",
   "version": "3.10.9"
  }
 },
 "nbformat": 4,
 "nbformat_minor": 5
}

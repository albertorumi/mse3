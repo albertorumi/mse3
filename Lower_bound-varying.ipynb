{
 "cells": [
  {
   "cell_type": "code",
   "execution_count": 1,
   "id": "fcaaae08",
   "metadata": {},
   "outputs": [],
   "source": [
    "%load_ext autoreload\n",
    "%autoreload 2\n",
    "import numpy as np\n",
    "import matplotlib.pyplot as plt\n",
    "from tqdm.auto import tqdm\n",
    "\n",
    "from src.EXPM import EXPM\n",
    "from src.CascadeBandit import CascadeBandit\n",
    "from src.UCB import UCBM\n",
    "from env.bandit_env import MAB_Bernoulli\n",
    "from env.movielens_env import Movielens\n",
    "from src.bandit_utils import play_all"
   ]
  },
  {
   "cell_type": "code",
   "execution_count": 3,
   "id": "807de82f",
   "metadata": {
    "scrolled": false
   },
   "outputs": [
    {
     "data": {
      "application/vnd.jupyter.widget-view+json": {
       "model_id": "50212ac452a6462e95fdbce98932af32",
       "version_major": 2,
       "version_minor": 0
      },
      "text/plain": [
       "  0%|          | 0/9 [00:00<?, ?it/s]"
      ]
     },
     "metadata": {},
     "output_type": "display_data"
    },
    {
     "data": {
      "application/vnd.jupyter.widget-view+json": {
       "model_id": "335201c432c642aba61c6098479ffbf8",
       "version_major": 2,
       "version_minor": 0
      },
      "text/plain": [
       "Training agent ComBand:   0%|          | 0/10 [00:00<?, ?it/s]"
      ]
     },
     "metadata": {},
     "output_type": "display_data"
    },
    {
     "data": {
      "application/vnd.jupyter.widget-view+json": {
       "model_id": "30d9604b3773444e8c5bcb9e807e2742",
       "version_major": 2,
       "version_minor": 0
      },
      "text/plain": [
       "Training agent MSE3:   0%|          | 0/10 [00:00<?, ?it/s]"
      ]
     },
     "metadata": {},
     "output_type": "display_data"
    },
    {
     "data": {
      "application/vnd.jupyter.widget-view+json": {
       "model_id": "1fae060ed14b4952816a508c7f638e18",
       "version_major": 2,
       "version_minor": 0
      },
      "text/plain": [
       "Training agent Casc-UCB:   0%|          | 0/10 [00:00<?, ?it/s]"
      ]
     },
     "metadata": {},
     "output_type": "display_data"
    },
    {
     "data": {
      "application/vnd.jupyter.widget-view+json": {
       "model_id": "df0f017bb68e4fe88d1c2edbd31b343c",
       "version_major": 2,
       "version_minor": 0
      },
      "text/plain": [
       "Training agent Casc-KL-UCB:   0%|          | 0/10 [00:00<?, ?it/s]"
      ]
     },
     "metadata": {},
     "output_type": "display_data"
    },
    {
     "data": {
      "application/vnd.jupyter.widget-view+json": {
       "model_id": "c3bb2bf8b4fe4bf382707168505a0c3b",
       "version_major": 2,
       "version_minor": 0
      },
      "text/plain": [
       "Training agent ComBand:   0%|          | 0/10 [00:00<?, ?it/s]"
      ]
     },
     "metadata": {},
     "output_type": "display_data"
    },
    {
     "data": {
      "application/vnd.jupyter.widget-view+json": {
       "model_id": "d041cbf2b5e64939a87d0814a69bbcfc",
       "version_major": 2,
       "version_minor": 0
      },
      "text/plain": [
       "Training agent MSE3:   0%|          | 0/10 [00:00<?, ?it/s]"
      ]
     },
     "metadata": {},
     "output_type": "display_data"
    },
    {
     "data": {
      "application/vnd.jupyter.widget-view+json": {
       "model_id": "ff085c4a7cab4747b055ff02d0f6348b",
       "version_major": 2,
       "version_minor": 0
      },
      "text/plain": [
       "Training agent Casc-UCB:   0%|          | 0/10 [00:00<?, ?it/s]"
      ]
     },
     "metadata": {},
     "output_type": "display_data"
    },
    {
     "data": {
      "application/vnd.jupyter.widget-view+json": {
       "model_id": "b5d79af7209a49248f9421155e1beb84",
       "version_major": 2,
       "version_minor": 0
      },
      "text/plain": [
       "Training agent Casc-KL-UCB:   0%|          | 0/10 [00:00<?, ?it/s]"
      ]
     },
     "metadata": {},
     "output_type": "display_data"
    },
    {
     "data": {
      "application/vnd.jupyter.widget-view+json": {
       "model_id": "216fe98646044dc39bfe5effef116f61",
       "version_major": 2,
       "version_minor": 0
      },
      "text/plain": [
       "Training agent ComBand:   0%|          | 0/10 [00:00<?, ?it/s]"
      ]
     },
     "metadata": {},
     "output_type": "display_data"
    },
    {
     "data": {
      "application/vnd.jupyter.widget-view+json": {
       "model_id": "ce3914969fd44d6db9e6ea2cffa02547",
       "version_major": 2,
       "version_minor": 0
      },
      "text/plain": [
       "Training agent MSE3:   0%|          | 0/10 [00:00<?, ?it/s]"
      ]
     },
     "metadata": {},
     "output_type": "display_data"
    },
    {
     "data": {
      "application/vnd.jupyter.widget-view+json": {
       "model_id": "d83e14a4c382492183fd9abed91c44e4",
       "version_major": 2,
       "version_minor": 0
      },
      "text/plain": [
       "Training agent Casc-UCB:   0%|          | 0/10 [00:00<?, ?it/s]"
      ]
     },
     "metadata": {},
     "output_type": "display_data"
    },
    {
     "data": {
      "application/vnd.jupyter.widget-view+json": {
       "model_id": "da811d9c22f341c68d3b2d897b333c42",
       "version_major": 2,
       "version_minor": 0
      },
      "text/plain": [
       "Training agent Casc-KL-UCB:   0%|          | 0/10 [00:00<?, ?it/s]"
      ]
     },
     "metadata": {},
     "output_type": "display_data"
    },
    {
     "data": {
      "application/vnd.jupyter.widget-view+json": {
       "model_id": "e00888d3e935461cb7cec061b39d7b42",
       "version_major": 2,
       "version_minor": 0
      },
      "text/plain": [
       "Training agent ComBand:   0%|          | 0/10 [00:00<?, ?it/s]"
      ]
     },
     "metadata": {},
     "output_type": "display_data"
    },
    {
     "data": {
      "application/vnd.jupyter.widget-view+json": {
       "model_id": "21ef411cf3a84f8fb7b0a8994d4ae5fb",
       "version_major": 2,
       "version_minor": 0
      },
      "text/plain": [
       "Training agent MSE3:   0%|          | 0/10 [00:00<?, ?it/s]"
      ]
     },
     "metadata": {},
     "output_type": "display_data"
    },
    {
     "data": {
      "application/vnd.jupyter.widget-view+json": {
       "model_id": "bb0baec7a36344f1a66eaf893d8ad782",
       "version_major": 2,
       "version_minor": 0
      },
      "text/plain": [
       "Training agent Casc-UCB:   0%|          | 0/10 [00:00<?, ?it/s]"
      ]
     },
     "metadata": {},
     "output_type": "display_data"
    },
    {
     "data": {
      "application/vnd.jupyter.widget-view+json": {
       "model_id": "6bdff1cabfeb434ca3fc907a0a8288c2",
       "version_major": 2,
       "version_minor": 0
      },
      "text/plain": [
       "Training agent Casc-KL-UCB:   0%|          | 0/10 [00:00<?, ?it/s]"
      ]
     },
     "metadata": {},
     "output_type": "display_data"
    },
    {
     "data": {
      "application/vnd.jupyter.widget-view+json": {
       "model_id": "04e1a6a45a24408c968bc22324984f4d",
       "version_major": 2,
       "version_minor": 0
      },
      "text/plain": [
       "Training agent ComBand:   0%|          | 0/10 [00:00<?, ?it/s]"
      ]
     },
     "metadata": {},
     "output_type": "display_data"
    },
    {
     "data": {
      "application/vnd.jupyter.widget-view+json": {
       "model_id": "aca97b4a17454570bb71db174fad9357",
       "version_major": 2,
       "version_minor": 0
      },
      "text/plain": [
       "Training agent MSE3:   0%|          | 0/10 [00:00<?, ?it/s]"
      ]
     },
     "metadata": {},
     "output_type": "display_data"
    },
    {
     "data": {
      "application/vnd.jupyter.widget-view+json": {
       "model_id": "5b7d2f5a465f4177b6a774ad1101138d",
       "version_major": 2,
       "version_minor": 0
      },
      "text/plain": [
       "Training agent Casc-UCB:   0%|          | 0/10 [00:00<?, ?it/s]"
      ]
     },
     "metadata": {},
     "output_type": "display_data"
    },
    {
     "data": {
      "application/vnd.jupyter.widget-view+json": {
       "model_id": "729a023cd575496bbfc71d986f0721fb",
       "version_major": 2,
       "version_minor": 0
      },
      "text/plain": [
       "Training agent Casc-KL-UCB:   0%|          | 0/10 [00:00<?, ?it/s]"
      ]
     },
     "metadata": {},
     "output_type": "display_data"
    },
    {
     "data": {
      "application/vnd.jupyter.widget-view+json": {
       "model_id": "cbb0fb363d9e49d9928c2d28b75b9633",
       "version_major": 2,
       "version_minor": 0
      },
      "text/plain": [
       "Training agent ComBand:   0%|          | 0/10 [00:00<?, ?it/s]"
      ]
     },
     "metadata": {},
     "output_type": "display_data"
    },
    {
     "data": {
      "application/vnd.jupyter.widget-view+json": {
       "model_id": "45d7204b61f84ce2a03e30596f9e279d",
       "version_major": 2,
       "version_minor": 0
      },
      "text/plain": [
       "Training agent MSE3:   0%|          | 0/10 [00:00<?, ?it/s]"
      ]
     },
     "metadata": {},
     "output_type": "display_data"
    },
    {
     "data": {
      "application/vnd.jupyter.widget-view+json": {
       "model_id": "05916905333b40b697aa4ddb8daa7139",
       "version_major": 2,
       "version_minor": 0
      },
      "text/plain": [
       "Training agent Casc-UCB:   0%|          | 0/10 [00:00<?, ?it/s]"
      ]
     },
     "metadata": {},
     "output_type": "display_data"
    },
    {
     "data": {
      "application/vnd.jupyter.widget-view+json": {
       "model_id": "7beb509284d2489899bc8d794ddf46f1",
       "version_major": 2,
       "version_minor": 0
      },
      "text/plain": [
       "Training agent Casc-KL-UCB:   0%|          | 0/10 [00:00<?, ?it/s]"
      ]
     },
     "metadata": {},
     "output_type": "display_data"
    },
    {
     "data": {
      "application/vnd.jupyter.widget-view+json": {
       "model_id": "6bb67e07a4ad4667a25f9cd63b721c16",
       "version_major": 2,
       "version_minor": 0
      },
      "text/plain": [
       "Training agent ComBand:   0%|          | 0/10 [00:00<?, ?it/s]"
      ]
     },
     "metadata": {},
     "output_type": "display_data"
    },
    {
     "data": {
      "application/vnd.jupyter.widget-view+json": {
       "model_id": "21268055523d4907915e9e5b42308f73",
       "version_major": 2,
       "version_minor": 0
      },
      "text/plain": [
       "Training agent MSE3:   0%|          | 0/10 [00:00<?, ?it/s]"
      ]
     },
     "metadata": {},
     "output_type": "display_data"
    },
    {
     "data": {
      "application/vnd.jupyter.widget-view+json": {
       "model_id": "6f54e8f55bbe46b2a2b16139eca423ed",
       "version_major": 2,
       "version_minor": 0
      },
      "text/plain": [
       "Training agent Casc-UCB:   0%|          | 0/10 [00:00<?, ?it/s]"
      ]
     },
     "metadata": {},
     "output_type": "display_data"
    },
    {
     "data": {
      "application/vnd.jupyter.widget-view+json": {
       "model_id": "e9a341b946aa446b89efae3d93f64e90",
       "version_major": 2,
       "version_minor": 0
      },
      "text/plain": [
       "Training agent Casc-KL-UCB:   0%|          | 0/10 [00:00<?, ?it/s]"
      ]
     },
     "metadata": {},
     "output_type": "display_data"
    },
    {
     "data": {
      "application/vnd.jupyter.widget-view+json": {
       "model_id": "3b7271d50a64487ea56e2f2cca9e976d",
       "version_major": 2,
       "version_minor": 0
      },
      "text/plain": [
       "Training agent ComBand:   0%|          | 0/10 [00:00<?, ?it/s]"
      ]
     },
     "metadata": {},
     "output_type": "display_data"
    },
    {
     "data": {
      "application/vnd.jupyter.widget-view+json": {
       "model_id": "92774977fc454854823f59e948183a0c",
       "version_major": 2,
       "version_minor": 0
      },
      "text/plain": [
       "Training agent MSE3:   0%|          | 0/10 [00:00<?, ?it/s]"
      ]
     },
     "metadata": {},
     "output_type": "display_data"
    },
    {
     "data": {
      "application/vnd.jupyter.widget-view+json": {
       "model_id": "4e28bcce837c491e8922489eb62d0f78",
       "version_major": 2,
       "version_minor": 0
      },
      "text/plain": [
       "Training agent Casc-UCB:   0%|          | 0/10 [00:00<?, ?it/s]"
      ]
     },
     "metadata": {},
     "output_type": "display_data"
    },
    {
     "data": {
      "application/vnd.jupyter.widget-view+json": {
       "model_id": "3eac237c8e2a4160aa796680177d4387",
       "version_major": 2,
       "version_minor": 0
      },
      "text/plain": [
       "Training agent Casc-KL-UCB:   0%|          | 0/10 [00:00<?, ?it/s]"
      ]
     },
     "metadata": {},
     "output_type": "display_data"
    },
    {
     "data": {
      "application/vnd.jupyter.widget-view+json": {
       "model_id": "d0ffd2bde4544913852ece7bb2c74256",
       "version_major": 2,
       "version_minor": 0
      },
      "text/plain": [
       "Training agent ComBand:   0%|          | 0/10 [00:00<?, ?it/s]"
      ]
     },
     "metadata": {},
     "output_type": "display_data"
    },
    {
     "data": {
      "application/vnd.jupyter.widget-view+json": {
       "model_id": "6f6fcfce1c564ceb816e703989849548",
       "version_major": 2,
       "version_minor": 0
      },
      "text/plain": [
       "Training agent MSE3:   0%|          | 0/10 [00:00<?, ?it/s]"
      ]
     },
     "metadata": {},
     "output_type": "display_data"
    },
    {
     "data": {
      "application/vnd.jupyter.widget-view+json": {
       "model_id": "f8c0ed5d7be940aeaa4c06d05ecf982f",
       "version_major": 2,
       "version_minor": 0
      },
      "text/plain": [
       "Training agent Casc-UCB:   0%|          | 0/10 [00:00<?, ?it/s]"
      ]
     },
     "metadata": {},
     "output_type": "display_data"
    },
    {
     "data": {
      "application/vnd.jupyter.widget-view+json": {
       "model_id": "b9cbc467941d4d908667a5004d64cc29",
       "version_major": 2,
       "version_minor": 0
      },
      "text/plain": [
       "Training agent Casc-KL-UCB:   0%|          | 0/10 [00:00<?, ?it/s]"
      ]
     },
     "metadata": {},
     "output_type": "display_data"
    }
   ],
   "source": [
    "from env.adv_env import Bernoulli_adv_dependent\n",
    "from src.UCB import UCBM\n",
    "from src.comband import CombBand, _dumb_sampling\n",
    "\n",
    "rng = np.random.default_rng(seed = 42)\n",
    "T = 10_000\n",
    "N = 10\n",
    "K = 20\n",
    "\n",
    "res_list = []\n",
    "\n",
    "for M in tqdm([2,3,4,5,6,7,8,9,10]):    \n",
    "    env = Bernoulli_adv_dependent(K, M, T, seed = M + int(10003/M))\n",
    "\n",
    "    expm = EXPM(K, M)\n",
    "    casc = CascadeBandit(K, M, method='UCB')\n",
    "    casc_kl = CascadeBandit(K, M, method='KL-UCB')\n",
    "    cb = CombBand(K,M,sampling_function=_dumb_sampling)\n",
    "    #\n",
    "    res = play_all(env, [cb, expm, casc, casc_kl], T, N, disable_tqdm_T = True)\n",
    "    res_list += [res]"
   ]
  },
  {
   "cell_type": "code",
   "execution_count": 5,
   "id": "61f6374b",
   "metadata": {},
   "outputs": [
    {
     "data": {
      "image/png": "[encoded data removed]",
      "text/plain": [
       "<Figure size 1000x600 with 1 Axes>"
      ]
     },
     "metadata": {},
     "output_type": "display_data"
    }
   ],
   "source": [
    "plt.rcParams['pdf.fonttype'] = 42\n",
    "plt.rcParams['ps.fonttype'] = 42\n",
    "\n",
    "fig, ax = plt.subplots(figsize=(10, 6))\n",
    "tot = []\n",
    "\n",
    "colors = {\n",
    "    'ComBand':'blue', 'MSE3':'orange','Casc-UCB':'green', 'Casc-KL-UCB':'red'\n",
    "}\n",
    "\n",
    "for en,i in enumerate(res_list):\n",
    "    for en2, (label, res_dict) in enumerate(i,1):\n",
    "        ind = (en * 4) + en2\n",
    "        data = np.cumsum(res_dict, axis=1)[:, -1]\n",
    "        tot += [data]\n",
    "\n",
    "        # Plot boxplot with specified color\n",
    "        ax.boxplot([data], positions=[ind], boxprops=dict(color=colors[label]))\n",
    "\n",
    "ax.set_ylabel(\"Cumulative Reward\", fontname='Times New Roman', fontsize=15)\n",
    "ax.set_xticks(np.arange(len(tot)))\n",
    "#labels = [a for a,_ in res] * 10\n",
    "labels = [ [i,i,i,i] for i in range(2,11)]\n",
    "labels = np.array([item for sublist in labels for item in sublist])\n",
    "\n",
    "plt.yticks(fontname='Times New Roman',\n",
    "    fontsize = 15)\n",
    "plt.xticks(\n",
    "    np.arange(4, len(labels)+4, 4), \n",
    "    np.arange(2,11),\n",
    "    fontname='Times New Roman',\n",
    "    fontsize = 15\n",
    ")\n",
    "\n",
    "legend_labels = [i for i,_ in res_list[0]]\n",
    "custom_legend = [plt.Line2D([0], [0], marker='o', color=colors[label], label=label, linestyle='None') for label in colors.keys()]\n",
    "ax.legend(handles=custom_legend, prop={'family': 'Times New Roman', 'size':15})\n",
    "\n",
    "fig.tight_layout()\n",
    "fig.savefig('./results/varying/lb_vary.pdf')"
   ]
  }
 ],
 "metadata": {
  "kernelspec": {
   "display_name": "Python 3 (ipykernel)",
   "language": "python",
   "name": "python3"
  },
  "language_info": {
   "codemirror_mode": {
    "name": "ipython",
    "version": 3
   },
   "file_extension": ".py",
   "mimetype": "text/x-python",
   "name": "python",
   "nbconvert_exporter": "python",
   "pygments_lexer": "ipython3",
   "version": "3.10.9"
  }
 },
 "nbformat": 4,
 "nbformat_minor": 5
}

{
 "cells": [
  {
   "cell_type": "code",
   "execution_count": 1,
   "id": "fcaaae08",
   "metadata": {},
   "outputs": [],
   "source": [
    "%load_ext autoreload\n",
    "%autoreload 2\n",
    "import numpy as np\n",
    "import matplotlib.pyplot as plt\n",
    "from tqdm.auto import tqdm\n",
    "\n",
    "from src.EXPM import EXPM\n",
    "from src.CascadeBandit import CascadeBandit\n",
    "from src.UCB import UCBM\n",
    "from env.bandit_env import MAB_Bernoulli\n",
    "from src.bandit_utils import play_all\n",
    "from src.UCB import UCBM\n",
    "from src.comband import CombBand"
   ]
  },
  {
   "cell_type": "code",
   "execution_count": 2,
   "id": "807de82f",
   "metadata": {},
   "outputs": [
    {
     "data": {
      "application/vnd.jupyter.widget-view+json": {
       "model_id": "af98fee3e0fe4156b6005ea63879e4fe",
       "version_major": 2,
       "version_minor": 0
      },
      "text/plain": [
       "  0%|          | 0/9 [00:00<?, ?it/s]"
      ]
     },
     "metadata": {},
     "output_type": "display_data"
    },
    {
     "data": {
      "application/vnd.jupyter.widget-view+json": {
       "model_id": "2e09f11369c3458fa0e0c5d34821a7de",
       "version_major": 2,
       "version_minor": 0
      },
      "text/plain": [
       "Training agent ComBand:   0%|          | 0/10 [00:00<?, ?it/s]"
      ]
     },
     "metadata": {},
     "output_type": "display_data"
    },
    {
     "data": {
      "application/vnd.jupyter.widget-view+json": {
       "model_id": "f8c5eddbc6ea41b1826ca042a07c80e8",
       "version_major": 2,
       "version_minor": 0
      },
      "text/plain": [
       "Training agent MSE3:   0%|          | 0/10 [00:00<?, ?it/s]"
      ]
     },
     "metadata": {},
     "output_type": "display_data"
    },
    {
     "data": {
      "application/vnd.jupyter.widget-view+json": {
       "model_id": "d2c9e146af504a34b7299749068a0010",
       "version_major": 2,
       "version_minor": 0
      },
      "text/plain": [
       "Training agent Casc-UCB:   0%|          | 0/10 [00:00<?, ?it/s]"
      ]
     },
     "metadata": {},
     "output_type": "display_data"
    },
    {
     "data": {
      "application/vnd.jupyter.widget-view+json": {
       "model_id": "980b56b7e3b943c7ae78bf8bde5a3b1a",
       "version_major": 2,
       "version_minor": 0
      },
      "text/plain": [
       "Training agent Casc-KL-UCB:   0%|          | 0/10 [00:00<?, ?it/s]"
      ]
     },
     "metadata": {},
     "output_type": "display_data"
    },
    {
     "data": {
      "application/vnd.jupyter.widget-view+json": {
       "model_id": "cc850c13188945519c4d7eab30d68cde",
       "version_major": 2,
       "version_minor": 0
      },
      "text/plain": [
       "Training agent ComBand:   0%|          | 0/10 [00:00<?, ?it/s]"
      ]
     },
     "metadata": {},
     "output_type": "display_data"
    },
    {
     "data": {
      "application/vnd.jupyter.widget-view+json": {
       "model_id": "abac3af7cde84b17960925b5ba096468",
       "version_major": 2,
       "version_minor": 0
      },
      "text/plain": [
       "Training agent MSE3:   0%|          | 0/10 [00:00<?, ?it/s]"
      ]
     },
     "metadata": {},
     "output_type": "display_data"
    },
    {
     "data": {
      "application/vnd.jupyter.widget-view+json": {
       "model_id": "608a3cfc9e4d444a95998dbd7b9c1c88",
       "version_major": 2,
       "version_minor": 0
      },
      "text/plain": [
       "Training agent Casc-UCB:   0%|          | 0/10 [00:00<?, ?it/s]"
      ]
     },
     "metadata": {},
     "output_type": "display_data"
    },
    {
     "data": {
      "application/vnd.jupyter.widget-view+json": {
       "model_id": "0fca3d8bd2f54c4495f29defb4244d39",
       "version_major": 2,
       "version_minor": 0
      },
      "text/plain": [
       "Training agent Casc-KL-UCB:   0%|          | 0/10 [00:00<?, ?it/s]"
      ]
     },
     "metadata": {},
     "output_type": "display_data"
    },
    {
     "data": {
      "application/vnd.jupyter.widget-view+json": {
       "model_id": "9fe90eef7e9e41ab80ddfce004f63048",
       "version_major": 2,
       "version_minor": 0
      },
      "text/plain": [
       "Training agent ComBand:   0%|          | 0/10 [00:00<?, ?it/s]"
      ]
     },
     "metadata": {},
     "output_type": "display_data"
    },
    {
     "data": {
      "application/vnd.jupyter.widget-view+json": {
       "model_id": "9f2a6723ef144d39aa590f67f930d77c",
       "version_major": 2,
       "version_minor": 0
      },
      "text/plain": [
       "Training agent MSE3:   0%|          | 0/10 [00:00<?, ?it/s]"
      ]
     },
     "metadata": {},
     "output_type": "display_data"
    },
    {
     "data": {
      "application/vnd.jupyter.widget-view+json": {
       "model_id": "70b75faa3e3a45e793a3637c623db738",
       "version_major": 2,
       "version_minor": 0
      },
      "text/plain": [
       "Training agent Casc-UCB:   0%|          | 0/10 [00:00<?, ?it/s]"
      ]
     },
     "metadata": {},
     "output_type": "display_data"
    },
    {
     "data": {
      "application/vnd.jupyter.widget-view+json": {
       "model_id": "e926c6b2686e4be79b73b4de7c93e409",
       "version_major": 2,
       "version_minor": 0
      },
      "text/plain": [
       "Training agent Casc-KL-UCB:   0%|          | 0/10 [00:00<?, ?it/s]"
      ]
     },
     "metadata": {},
     "output_type": "display_data"
    },
    {
     "data": {
      "application/vnd.jupyter.widget-view+json": {
       "model_id": "766d5eb3ccfe42bea3a0710dfd226a1e",
       "version_major": 2,
       "version_minor": 0
      },
      "text/plain": [
       "Training agent ComBand:   0%|          | 0/10 [00:00<?, ?it/s]"
      ]
     },
     "metadata": {},
     "output_type": "display_data"
    },
    {
     "data": {
      "application/vnd.jupyter.widget-view+json": {
       "model_id": "4d1bdf8881ff4f6daf076754b48d3d22",
       "version_major": 2,
       "version_minor": 0
      },
      "text/plain": [
       "Training agent MSE3:   0%|          | 0/10 [00:00<?, ?it/s]"
      ]
     },
     "metadata": {},
     "output_type": "display_data"
    },
    {
     "data": {
      "application/vnd.jupyter.widget-view+json": {
       "model_id": "8309c19952364cdcaf218a753f3989b1",
       "version_major": 2,
       "version_minor": 0
      },
      "text/plain": [
       "Training agent Casc-UCB:   0%|          | 0/10 [00:00<?, ?it/s]"
      ]
     },
     "metadata": {},
     "output_type": "display_data"
    },
    {
     "data": {
      "application/vnd.jupyter.widget-view+json": {
       "model_id": "926f9d322cd84074a6ee89dd6f235fc7",
       "version_major": 2,
       "version_minor": 0
      },
      "text/plain": [
       "Training agent Casc-KL-UCB:   0%|          | 0/10 [00:00<?, ?it/s]"
      ]
     },
     "metadata": {},
     "output_type": "display_data"
    },
    {
     "data": {
      "application/vnd.jupyter.widget-view+json": {
       "model_id": "c4d19e71ade74e9492e4a0fa90bd168e",
       "version_major": 2,
       "version_minor": 0
      },
      "text/plain": [
       "Training agent ComBand:   0%|          | 0/10 [00:00<?, ?it/s]"
      ]
     },
     "metadata": {},
     "output_type": "display_data"
    },
    {
     "data": {
      "application/vnd.jupyter.widget-view+json": {
       "model_id": "8c85278e879244cead47d0408c28c499",
       "version_major": 2,
       "version_minor": 0
      },
      "text/plain": [
       "Training agent MSE3:   0%|          | 0/10 [00:00<?, ?it/s]"
      ]
     },
     "metadata": {},
     "output_type": "display_data"
    },
    {
     "data": {
      "application/vnd.jupyter.widget-view+json": {
       "model_id": "82961e43ff2741d6875408cb460e99e3",
       "version_major": 2,
       "version_minor": 0
      },
      "text/plain": [
       "Training agent Casc-UCB:   0%|          | 0/10 [00:00<?, ?it/s]"
      ]
     },
     "metadata": {},
     "output_type": "display_data"
    },
    {
     "data": {
      "application/vnd.jupyter.widget-view+json": {
       "model_id": "2d090c7aa14a4a3f931b746c1b039937",
       "version_major": 2,
       "version_minor": 0
      },
      "text/plain": [
       "Training agent Casc-KL-UCB:   0%|          | 0/10 [00:00<?, ?it/s]"
      ]
     },
     "metadata": {},
     "output_type": "display_data"
    },
    {
     "data": {
      "application/vnd.jupyter.widget-view+json": {
       "model_id": "a9535189789f45fe87fc5f1a3b0d7f5b",
       "version_major": 2,
       "version_minor": 0
      },
      "text/plain": [
       "Training agent ComBand:   0%|          | 0/10 [00:00<?, ?it/s]"
      ]
     },
     "metadata": {},
     "output_type": "display_data"
    },
    {
     "data": {
      "application/vnd.jupyter.widget-view+json": {
       "model_id": "c188a05dc5b040fa945117f0faf4ca6c",
       "version_major": 2,
       "version_minor": 0
      },
      "text/plain": [
       "Training agent MSE3:   0%|          | 0/10 [00:00<?, ?it/s]"
      ]
     },
     "metadata": {},
     "output_type": "display_data"
    },
    {
     "data": {
      "application/vnd.jupyter.widget-view+json": {
       "model_id": "7aa835a2851d477f8072006356fafb9d",
       "version_major": 2,
       "version_minor": 0
      },
      "text/plain": [
       "Training agent Casc-UCB:   0%|          | 0/10 [00:00<?, ?it/s]"
      ]
     },
     "metadata": {},
     "output_type": "display_data"
    },
    {
     "data": {
      "application/vnd.jupyter.widget-view+json": {
       "model_id": "fa1e2d9697f94ce993a9c104c59d3d46",
       "version_major": 2,
       "version_minor": 0
      },
      "text/plain": [
       "Training agent Casc-KL-UCB:   0%|          | 0/10 [00:00<?, ?it/s]"
      ]
     },
     "metadata": {},
     "output_type": "display_data"
    },
    {
     "data": {
      "application/vnd.jupyter.widget-view+json": {
       "model_id": "46fc9ec921e84f29a29bf515df86de16",
       "version_major": 2,
       "version_minor": 0
      },
      "text/plain": [
       "Training agent ComBand:   0%|          | 0/10 [00:00<?, ?it/s]"
      ]
     },
     "metadata": {},
     "output_type": "display_data"
    },
    {
     "data": {
      "application/vnd.jupyter.widget-view+json": {
       "model_id": "eb3045d153f34bcca640431a1c7b3394",
       "version_major": 2,
       "version_minor": 0
      },
      "text/plain": [
       "Training agent MSE3:   0%|          | 0/10 [00:00<?, ?it/s]"
      ]
     },
     "metadata": {},
     "output_type": "display_data"
    },
    {
     "data": {
      "application/vnd.jupyter.widget-view+json": {
       "model_id": "46df500a9aaf424087746ec4adc137fc",
       "version_major": 2,
       "version_minor": 0
      },
      "text/plain": [
       "Training agent Casc-UCB:   0%|          | 0/10 [00:00<?, ?it/s]"
      ]
     },
     "metadata": {},
     "output_type": "display_data"
    },
    {
     "data": {
      "application/vnd.jupyter.widget-view+json": {
       "model_id": "06d27b1568da448ea9301a38406885dc",
       "version_major": 2,
       "version_minor": 0
      },
      "text/plain": [
       "Training agent Casc-KL-UCB:   0%|          | 0/10 [00:00<?, ?it/s]"
      ]
     },
     "metadata": {},
     "output_type": "display_data"
    },
    {
     "data": {
      "application/vnd.jupyter.widget-view+json": {
       "model_id": "76ca93bf86d14e90a33f32e68e65b990",
       "version_major": 2,
       "version_minor": 0
      },
      "text/plain": [
       "Training agent ComBand:   0%|          | 0/10 [00:00<?, ?it/s]"
      ]
     },
     "metadata": {},
     "output_type": "display_data"
    },
    {
     "data": {
      "application/vnd.jupyter.widget-view+json": {
       "model_id": "b752881eab634069815a7d384aa26021",
       "version_major": 2,
       "version_minor": 0
      },
      "text/plain": [
       "Training agent MSE3:   0%|          | 0/10 [00:00<?, ?it/s]"
      ]
     },
     "metadata": {},
     "output_type": "display_data"
    },
    {
     "data": {
      "application/vnd.jupyter.widget-view+json": {
       "model_id": "11893e6c710e47f9a4c016da30d07749",
       "version_major": 2,
       "version_minor": 0
      },
      "text/plain": [
       "Training agent Casc-UCB:   0%|          | 0/10 [00:00<?, ?it/s]"
      ]
     },
     "metadata": {},
     "output_type": "display_data"
    },
    {
     "data": {
      "application/vnd.jupyter.widget-view+json": {
       "model_id": "89c38d64083d44b2be0f4218fdbf27c2",
       "version_major": 2,
       "version_minor": 0
      },
      "text/plain": [
       "Training agent Casc-KL-UCB:   0%|          | 0/10 [00:00<?, ?it/s]"
      ]
     },
     "metadata": {},
     "output_type": "display_data"
    },
    {
     "data": {
      "application/vnd.jupyter.widget-view+json": {
       "model_id": "42b0c051840b4063acd234710f074d64",
       "version_major": 2,
       "version_minor": 0
      },
      "text/plain": [
       "Training agent ComBand:   0%|          | 0/10 [00:00<?, ?it/s]"
      ]
     },
     "metadata": {},
     "output_type": "display_data"
    },
    {
     "data": {
      "application/vnd.jupyter.widget-view+json": {
       "model_id": "653902ea5aeb425ca075ef0fb1e6fb06",
       "version_major": 2,
       "version_minor": 0
      },
      "text/plain": [
       "Training agent MSE3:   0%|          | 0/10 [00:00<?, ?it/s]"
      ]
     },
     "metadata": {},
     "output_type": "display_data"
    },
    {
     "data": {
      "application/vnd.jupyter.widget-view+json": {
       "model_id": "604f82829d5044469dfdb8112427277f",
       "version_major": 2,
       "version_minor": 0
      },
      "text/plain": [
       "Training agent Casc-UCB:   0%|          | 0/10 [00:00<?, ?it/s]"
      ]
     },
     "metadata": {},
     "output_type": "display_data"
    },
    {
     "data": {
      "application/vnd.jupyter.widget-view+json": {
       "model_id": "89fdcb43439e4f4781fc16e5a0ffd440",
       "version_major": 2,
       "version_minor": 0
      },
      "text/plain": [
       "Training agent Casc-KL-UCB:   0%|          | 0/10 [00:00<?, ?it/s]"
      ]
     },
     "metadata": {},
     "output_type": "display_data"
    }
   ],
   "source": [
    "rng = np.random.default_rng(seed = 42)\n",
    "T = 10_000\n",
    "N = 10\n",
    "K = 20\n",
    "M_list = [2,3,4,5,6,7,8,9,10]\n",
    "\n",
    "corruption = int(np.sqrt(T))\n",
    "\n",
    "res_list = []\n",
    "\n",
    "for M in tqdm(M_list):\n",
    "    env = MAB_Bernoulli(K, M, corruption = corruption)\n",
    "    expm = EXPM(K, M)\n",
    "    casc = CascadeBandit(K, M, method='UCB')\n",
    "    casc_kl = CascadeBandit(K, M, method='KL-UCB')\n",
    "    cb = CombBand(K,M)\n",
    "    #\n",
    "    res = play_all(env, [cb, expm, casc, casc_kl], T, N, disable_tqdm_T = True)\n",
    "    res_list += [res]"
   ]
  },
  {
   "cell_type": "markdown",
   "id": "624bb140",
   "metadata": {},
   "source": [
    "### fig, ax = plt.subplots(figsize=(10, 6))\n",
    "tot = []\n",
    "\n",
    "colors = ['red', 'green', 'blue', 'purple']\n",
    "\n",
    "for en,i in enumerate(res_list):\n",
    "    for en2, (label, res_dict) in enumerate(i,1):\n",
    "        ind = (en * 4) + en2\n",
    "        data = np.cumsum(res_dict, axis=1)[:, -1]\n",
    "        tot += [data]\n",
    "\n",
    "        # Set color for the current subplot\n",
    "        color = colors[ind % len(colors)]\n",
    "\n",
    "        # Plot boxplot with specified color\n",
    "        ax.boxplot([data], positions=[ind], boxprops=dict(color=color))\n",
    "\n",
    "ax.set_ylabel(\"Cumulative Reward\", fontsize=15)\n",
    "ax.set_xticks(np.arange(len(tot)))\n",
    "#labels = [a for a,_ in res] * 10\n",
    "labels = [ [i,i,i,i] for i in range(2,11)]\n",
    "labels = np.array([item for sublist in labels for item in sublist])\n",
    "\n",
    "plt.xticks(\n",
    "    np.arange(4, len(labels)+4, 4), \n",
    "    np.arange(2,11)\n",
    ")\n",
    "\n",
    "legend_labels = [i for i,_ in res_list[0]]\n",
    "custom_legend = [plt.Line2D([0], [0], marker='o', color=color, label=label, linestyle='None') for label, color in zip(legend_labels, colors)]\n",
    "ax.legend(handles=custom_legend)\n",
    "\n",
    "fig.tight_layout()\n",
    "fig.savefig('./results/varying/bern_corr_vary.pdf')"
   ]
  }
 ],
 "metadata": {
  "kernelspec": {
   "display_name": "Python 3 (ipykernel)",
   "language": "python",
   "name": "python3"
  },
  "language_info": {
   "codemirror_mode": {
    "name": "ipython",
    "version": 3
   },
   "file_extension": ".py",
   "mimetype": "text/x-python",
   "name": "python",
   "nbconvert_exporter": "python",
   "pygments_lexer": "ipython3",
   "version": "3.10.9"
  }
 },
 "nbformat": 4,
 "nbformat_minor": 5
}

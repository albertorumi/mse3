{
 "cells": [
  {
   "cell_type": "code",
   "execution_count": 1,
   "id": "fcaaae08",
   "metadata": {},
   "outputs": [],
   "source": [
    "%load_ext autoreload\n",
    "%autoreload 2\n",
    "import numpy as np\n",
    "import matplotlib.pyplot as plt\n",
    "from tqdm.auto import tqdm\n",
    "\n",
    "from src.EXPM import EXPM\n",
    "from src.CascadeBandit import CascadeBandit\n",
    "from src.UCB import UCBM\n",
    "from env.bandit_env import MAB_Bernoulli\n",
    "from src.bandit_utils import play_all\n",
    "from src.UCB import UCBM\n",
    "from src.comband import CombBand"
   ]
  },
  {
   "cell_type": "code",
   "execution_count": 2,
   "id": "807de82f",
   "metadata": {},
   "outputs": [
    {
     "data": {
      "application/vnd.jupyter.widget-view+json": {
       "model_id": "ab6bf1f6c0f04b27989f22ac95c0e363",
       "version_major": 2,
       "version_minor": 0
      },
      "text/plain": [
       "  0%|          | 0/9 [00:00<?, ?it/s]"
      ]
     },
     "metadata": {},
     "output_type": "display_data"
    },
    {
     "data": {
      "application/vnd.jupyter.widget-view+json": {
       "model_id": "608311d69a954292b630cf965b5400fd",
       "version_major": 2,
       "version_minor": 0
      },
      "text/plain": [
       "Training agent ComBand:   0%|          | 0/10 [00:00<?, ?it/s]"
      ]
     },
     "metadata": {},
     "output_type": "display_data"
    },
    {
     "data": {
      "application/vnd.jupyter.widget-view+json": {
       "model_id": "70cd7e149bae4d61af86adc2ec82e3a4",
       "version_major": 2,
       "version_minor": 0
      },
      "text/plain": [
       "Training agent MSE3:   0%|          | 0/10 [00:00<?, ?it/s]"
      ]
     },
     "metadata": {},
     "output_type": "display_data"
    },
    {
     "data": {
      "application/vnd.jupyter.widget-view+json": {
       "model_id": "9eea76b0695c496a99720c7dba6dfdc7",
       "version_major": 2,
       "version_minor": 0
      },
      "text/plain": [
       "Training agent Casc-UCB:   0%|          | 0/10 [00:00<?, ?it/s]"
      ]
     },
     "metadata": {},
     "output_type": "display_data"
    },
    {
     "data": {
      "application/vnd.jupyter.widget-view+json": {
       "model_id": "b7dbb9ecf2c841a5980a7b147c9a33b4",
       "version_major": 2,
       "version_minor": 0
      },
      "text/plain": [
       "Training agent Casc-KL-UCB:   0%|          | 0/10 [00:00<?, ?it/s]"
      ]
     },
     "metadata": {},
     "output_type": "display_data"
    },
    {
     "data": {
      "application/vnd.jupyter.widget-view+json": {
       "model_id": "8debec7ae7c24b23af659fae4947dc78",
       "version_major": 2,
       "version_minor": 0
      },
      "text/plain": [
       "Training agent ComBand:   0%|          | 0/10 [00:00<?, ?it/s]"
      ]
     },
     "metadata": {},
     "output_type": "display_data"
    },
    {
     "data": {
      "application/vnd.jupyter.widget-view+json": {
       "model_id": "88d6e2fabec944d8813965a7def463bb",
       "version_major": 2,
       "version_minor": 0
      },
      "text/plain": [
       "Training agent MSE3:   0%|          | 0/10 [00:00<?, ?it/s]"
      ]
     },
     "metadata": {},
     "output_type": "display_data"
    },
    {
     "data": {
      "application/vnd.jupyter.widget-view+json": {
       "model_id": "9b3858043e6841c3b010d7a4c47913e1",
       "version_major": 2,
       "version_minor": 0
      },
      "text/plain": [
       "Training agent Casc-UCB:   0%|          | 0/10 [00:00<?, ?it/s]"
      ]
     },
     "metadata": {},
     "output_type": "display_data"
    },
    {
     "data": {
      "application/vnd.jupyter.widget-view+json": {
       "model_id": "a28d64b9576e4b14bf84f5e9f44ba277",
       "version_major": 2,
       "version_minor": 0
      },
      "text/plain": [
       "Training agent Casc-KL-UCB:   0%|          | 0/10 [00:00<?, ?it/s]"
      ]
     },
     "metadata": {},
     "output_type": "display_data"
    },
    {
     "data": {
      "application/vnd.jupyter.widget-view+json": {
       "model_id": "dd0bb8739c3e46609ce98702d0158b32",
       "version_major": 2,
       "version_minor": 0
      },
      "text/plain": [
       "Training agent ComBand:   0%|          | 0/10 [00:00<?, ?it/s]"
      ]
     },
     "metadata": {},
     "output_type": "display_data"
    },
    {
     "data": {
      "application/vnd.jupyter.widget-view+json": {
       "model_id": "46b6007424704189a0515ccc2279f698",
       "version_major": 2,
       "version_minor": 0
      },
      "text/plain": [
       "Training agent MSE3:   0%|          | 0/10 [00:00<?, ?it/s]"
      ]
     },
     "metadata": {},
     "output_type": "display_data"
    },
    {
     "data": {
      "application/vnd.jupyter.widget-view+json": {
       "model_id": "e22511e406134c4695bc72d3d85d470a",
       "version_major": 2,
       "version_minor": 0
      },
      "text/plain": [
       "Training agent Casc-UCB:   0%|          | 0/10 [00:00<?, ?it/s]"
      ]
     },
     "metadata": {},
     "output_type": "display_data"
    },
    {
     "data": {
      "application/vnd.jupyter.widget-view+json": {
       "model_id": "7c506934ea574325b8bc1f8dca33f5b5",
       "version_major": 2,
       "version_minor": 0
      },
      "text/plain": [
       "Training agent Casc-KL-UCB:   0%|          | 0/10 [00:00<?, ?it/s]"
      ]
     },
     "metadata": {},
     "output_type": "display_data"
    },
    {
     "data": {
      "application/vnd.jupyter.widget-view+json": {
       "model_id": "224db3ebf27c4f96b096892678cabdcb",
       "version_major": 2,
       "version_minor": 0
      },
      "text/plain": [
       "Training agent ComBand:   0%|          | 0/10 [00:00<?, ?it/s]"
      ]
     },
     "metadata": {},
     "output_type": "display_data"
    },
    {
     "data": {
      "application/vnd.jupyter.widget-view+json": {
       "model_id": "bcb8f5e154354d8382e238ff7494775f",
       "version_major": 2,
       "version_minor": 0
      },
      "text/plain": [
       "Training agent MSE3:   0%|          | 0/10 [00:00<?, ?it/s]"
      ]
     },
     "metadata": {},
     "output_type": "display_data"
    },
    {
     "data": {
      "application/vnd.jupyter.widget-view+json": {
       "model_id": "a54452b8739f42569dd4c6be3316f78b",
       "version_major": 2,
       "version_minor": 0
      },
      "text/plain": [
       "Training agent Casc-UCB:   0%|          | 0/10 [00:00<?, ?it/s]"
      ]
     },
     "metadata": {},
     "output_type": "display_data"
    },
    {
     "data": {
      "application/vnd.jupyter.widget-view+json": {
       "model_id": "4b2f4199cddb4517a212d4cd20397fc8",
       "version_major": 2,
       "version_minor": 0
      },
      "text/plain": [
       "Training agent Casc-KL-UCB:   0%|          | 0/10 [00:00<?, ?it/s]"
      ]
     },
     "metadata": {},
     "output_type": "display_data"
    },
    {
     "data": {
      "application/vnd.jupyter.widget-view+json": {
       "model_id": "2ee3f170aec24312af0a1cb989633a08",
       "version_major": 2,
       "version_minor": 0
      },
      "text/plain": [
       "Training agent ComBand:   0%|          | 0/10 [00:00<?, ?it/s]"
      ]
     },
     "metadata": {},
     "output_type": "display_data"
    },
    {
     "data": {
      "application/vnd.jupyter.widget-view+json": {
       "model_id": "eed1cccd746342ce9c30a44b5851a4e5",
       "version_major": 2,
       "version_minor": 0
      },
      "text/plain": [
       "Training agent MSE3:   0%|          | 0/10 [00:00<?, ?it/s]"
      ]
     },
     "metadata": {},
     "output_type": "display_data"
    },
    {
     "data": {
      "application/vnd.jupyter.widget-view+json": {
       "model_id": "a685efb918e64df28ab7239e8c6065d6",
       "version_major": 2,
       "version_minor": 0
      },
      "text/plain": [
       "Training agent Casc-UCB:   0%|          | 0/10 [00:00<?, ?it/s]"
      ]
     },
     "metadata": {},
     "output_type": "display_data"
    },
    {
     "data": {
      "application/vnd.jupyter.widget-view+json": {
       "model_id": "162e41e608cd4f349f997c3d66be9e2c",
       "version_major": 2,
       "version_minor": 0
      },
      "text/plain": [
       "Training agent Casc-KL-UCB:   0%|          | 0/10 [00:00<?, ?it/s]"
      ]
     },
     "metadata": {},
     "output_type": "display_data"
    },
    {
     "data": {
      "application/vnd.jupyter.widget-view+json": {
       "model_id": "e3b7974037e542439b356fd45bcde1f2",
       "version_major": 2,
       "version_minor": 0
      },
      "text/plain": [
       "Training agent ComBand:   0%|          | 0/10 [00:00<?, ?it/s]"
      ]
     },
     "metadata": {},
     "output_type": "display_data"
    },
    {
     "data": {
      "application/vnd.jupyter.widget-view+json": {
       "model_id": "e598dfdb89ee4a7c92f06d86259571d4",
       "version_major": 2,
       "version_minor": 0
      },
      "text/plain": [
       "Training agent MSE3:   0%|          | 0/10 [00:00<?, ?it/s]"
      ]
     },
     "metadata": {},
     "output_type": "display_data"
    },
    {
     "data": {
      "application/vnd.jupyter.widget-view+json": {
       "model_id": "172eb8bc3ecc41bdb3dcc44ca2af2956",
       "version_major": 2,
       "version_minor": 0
      },
      "text/plain": [
       "Training agent Casc-UCB:   0%|          | 0/10 [00:00<?, ?it/s]"
      ]
     },
     "metadata": {},
     "output_type": "display_data"
    },
    {
     "data": {
      "application/vnd.jupyter.widget-view+json": {
       "model_id": "0279b1e5087d45dcb276e21300746bf1",
       "version_major": 2,
       "version_minor": 0
      },
      "text/plain": [
       "Training agent Casc-KL-UCB:   0%|          | 0/10 [00:00<?, ?it/s]"
      ]
     },
     "metadata": {},
     "output_type": "display_data"
    },
    {
     "data": {
      "application/vnd.jupyter.widget-view+json": {
       "model_id": "1bce13d7d63d4fdf95c1d8fbaa643ba3",
       "version_major": 2,
       "version_minor": 0
      },
      "text/plain": [
       "Training agent ComBand:   0%|          | 0/10 [00:00<?, ?it/s]"
      ]
     },
     "metadata": {},
     "output_type": "display_data"
    },
    {
     "data": {
      "application/vnd.jupyter.widget-view+json": {
       "model_id": "a47c683e4c7e4e1a82b84708a1aa2e13",
       "version_major": 2,
       "version_minor": 0
      },
      "text/plain": [
       "Training agent MSE3:   0%|          | 0/10 [00:00<?, ?it/s]"
      ]
     },
     "metadata": {},
     "output_type": "display_data"
    },
    {
     "data": {
      "application/vnd.jupyter.widget-view+json": {
       "model_id": "86254528eb3a4251914c25ccb5318441",
       "version_major": 2,
       "version_minor": 0
      },
      "text/plain": [
       "Training agent Casc-UCB:   0%|          | 0/10 [00:00<?, ?it/s]"
      ]
     },
     "metadata": {},
     "output_type": "display_data"
    },
    {
     "data": {
      "application/vnd.jupyter.widget-view+json": {
       "model_id": "bdb09987e953415796deb2c2dbdd9b6a",
       "version_major": 2,
       "version_minor": 0
      },
      "text/plain": [
       "Training agent Casc-KL-UCB:   0%|          | 0/10 [00:00<?, ?it/s]"
      ]
     },
     "metadata": {},
     "output_type": "display_data"
    },
    {
     "data": {
      "application/vnd.jupyter.widget-view+json": {
       "model_id": "ff8ca47b2cd64808ab9ab7dcae2b0175",
       "version_major": 2,
       "version_minor": 0
      },
      "text/plain": [
       "Training agent ComBand:   0%|          | 0/10 [00:00<?, ?it/s]"
      ]
     },
     "metadata": {},
     "output_type": "display_data"
    },
    {
     "data": {
      "application/vnd.jupyter.widget-view+json": {
       "model_id": "49fc516c7eeb42c0bf2d10f309afb2eb",
       "version_major": 2,
       "version_minor": 0
      },
      "text/plain": [
       "Training agent MSE3:   0%|          | 0/10 [00:00<?, ?it/s]"
      ]
     },
     "metadata": {},
     "output_type": "display_data"
    },
    {
     "data": {
      "application/vnd.jupyter.widget-view+json": {
       "model_id": "93e44c7427954fe88197458139087d39",
       "version_major": 2,
       "version_minor": 0
      },
      "text/plain": [
       "Training agent Casc-UCB:   0%|          | 0/10 [00:00<?, ?it/s]"
      ]
     },
     "metadata": {},
     "output_type": "display_data"
    },
    {
     "data": {
      "application/vnd.jupyter.widget-view+json": {
       "model_id": "4ef971dee1a3431dbd78f04225c95f0a",
       "version_major": 2,
       "version_minor": 0
      },
      "text/plain": [
       "Training agent Casc-KL-UCB:   0%|          | 0/10 [00:00<?, ?it/s]"
      ]
     },
     "metadata": {},
     "output_type": "display_data"
    },
    {
     "data": {
      "application/vnd.jupyter.widget-view+json": {
       "model_id": "bac5d2247298462f8b08218afec0ea40",
       "version_major": 2,
       "version_minor": 0
      },
      "text/plain": [
       "Training agent ComBand:   0%|          | 0/10 [00:00<?, ?it/s]"
      ]
     },
     "metadata": {},
     "output_type": "display_data"
    },
    {
     "data": {
      "application/vnd.jupyter.widget-view+json": {
       "model_id": "06670de4ea2346e7bf363821ab961653",
       "version_major": 2,
       "version_minor": 0
      },
      "text/plain": [
       "Training agent MSE3:   0%|          | 0/10 [00:00<?, ?it/s]"
      ]
     },
     "metadata": {},
     "output_type": "display_data"
    },
    {
     "data": {
      "application/vnd.jupyter.widget-view+json": {
       "model_id": "f8bd07f66b524dd3a392af9f7ce1a3ad",
       "version_major": 2,
       "version_minor": 0
      },
      "text/plain": [
       "Training agent Casc-UCB:   0%|          | 0/10 [00:00<?, ?it/s]"
      ]
     },
     "metadata": {},
     "output_type": "display_data"
    },
    {
     "data": {
      "application/vnd.jupyter.widget-view+json": {
       "model_id": "be267a9c28ba42aba3343ce0212f460b",
       "version_major": 2,
       "version_minor": 0
      },
      "text/plain": [
       "Training agent Casc-KL-UCB:   0%|          | 0/10 [00:00<?, ?it/s]"
      ]
     },
     "metadata": {},
     "output_type": "display_data"
    }
   ],
   "source": [
    "rng = np.random.default_rng(seed = 42)\n",
    "T = 10_000\n",
    "N = 10\n",
    "K = 20\n",
    "M_list = [2,3,4,5,6,7,8,9,10]\n",
    "\n",
    "corruption = int(np.sqrt(T))\n",
    "\n",
    "res_list = []\n",
    "\n",
    "for M in tqdm(M_list):\n",
    "    env = MAB_Bernoulli(K, M, corruption = corruption)\n",
    "    expm = EXPM(K, M)\n",
    "    casc = CascadeBandit(K, M, method='UCB')\n",
    "    casc_kl = CascadeBandit(K, M, method='KL-UCB')\n",
    "    cb = CombBand(K,M)\n",
    "    #\n",
    "    res = play_all(env, [cb, expm, casc, casc_kl], T, N, disable_tqdm_T = True)\n",
    "    res_list += [res]"
   ]
  },
  {
   "cell_type": "code",
   "execution_count": 19,
   "id": "aadeece5",
   "metadata": {},
   "outputs": [
    {
     "data": {
      "image/png": "[encoded data removed]",
      "text/plain": [
       "<Figure size 1000x600 with 1 Axes>"
      ]
     },
     "metadata": {},
     "output_type": "display_data"
    }
   ],
   "source": [
    "plt.rcParams['pdf.fonttype'] = 42\n",
    "plt.rcParams['ps.fonttype'] = 42\n",
    "fig, ax = plt.subplots(figsize=(10, 6))\n",
    "tot = []\n",
    "\n",
    "colors = {\n",
    "    'ComBand':'blue', 'MSE3':'orange','Casc-UCB':'green', 'Casc-KL-UCB':'red'\n",
    "}\n",
    "\n",
    "for en,i in enumerate(res_list):\n",
    "    for en2, (label, res_dict) in enumerate(i,1):\n",
    "        ind = (en * 4) + en2\n",
    "        data = np.cumsum(res_dict, axis=1)[:, -1]\n",
    "        tot += [data]\n",
    "\n",
    "        # Plot boxplot with specified color\n",
    "        ax.boxplot([data], positions=[ind], boxprops=dict(color=colors[label]))\n",
    "\n",
    "ax.set_ylabel(\"Cumulative Reward\", fontname='Times New Roman', fontsize=15)\n",
    "ax.set_xticks(np.arange(len(tot)))\n",
    "#labels = [a for a,_ in res] * 10\n",
    "labels = [ [i,i,i,i] for i in range(2,11)]\n",
    "labels = np.array([item for sublist in labels for item in sublist])\n",
    "\n",
    "plt.yticks(fontname='Times New Roman',\n",
    "    fontsize = 15)\n",
    "plt.xticks(\n",
    "    np.arange(4, len(labels)+4, 4), \n",
    "    np.arange(2,11),\n",
    "    fontname='Times New Roman',\n",
    "    fontsize = 15\n",
    ")\n",
    "\n",
    "legend_labels = [i for i,_ in res_list[0]]\n",
    "custom_legend = [plt.Line2D([0], [0], marker='o', color=colors[label], label=label, linestyle='None') for label in colors.keys()]\n",
    "ax.legend(handles=custom_legend, prop={'family': 'Times New Roman', 'size':15})\n",
    "\n",
    "fig.tight_layout()\n",
    "fig.savefig('./results/varying/bern_corr_vary.pdf')"
   ]
  }
 ],
 "metadata": {
  "kernelspec": {
   "display_name": "Python 3 (ipykernel)",
   "language": "python",
   "name": "python3"
  },
  "language_info": {
   "codemirror_mode": {
    "name": "ipython",
    "version": 3
   },
   "file_extension": ".py",
   "mimetype": "text/x-python",
   "name": "python",
   "nbconvert_exporter": "python",
   "pygments_lexer": "ipython3",
   "version": "3.10.9"
  }
 },
 "nbformat": 4,
 "nbformat_minor": 5
}

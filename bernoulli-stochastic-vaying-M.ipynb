{
 "cells": [
  {
   "cell_type": "code",
   "execution_count": 1,
   "id": "0997418a",
   "metadata": {},
   "outputs": [],
   "source": [
    "%load_ext autoreload\n",
    "%autoreload 2\n",
    "import numpy as np\n",
    "import matplotlib.pyplot as plt\n",
    "from tqdm.auto import tqdm\n",
    "\n",
    "from src.EXPM import EXPM\n",
    "from src.CascadeBandit import CascadeBandit\n",
    "from src.UCB import UCBM\n",
    "from env.bandit_env import MAB_Bernoulli\n",
    "from env.movielens_env import Movielens\n",
    "from src.bandit_utils import play_all"
   ]
  },
  {
   "cell_type": "code",
   "execution_count": 2,
   "id": "8fb83bd5",
   "metadata": {},
   "outputs": [
    {
     "data": {
      "application/vnd.jupyter.widget-view+json": {
       "model_id": "19826720fada483f918578d99d35671c",
       "version_major": 2,
       "version_minor": 0
      },
      "text/plain": [
       "  0%|          | 0/9 [00:00<?, ?it/s]"
      ]
     },
     "metadata": {},
     "output_type": "display_data"
    },
    {
     "data": {
      "application/vnd.jupyter.widget-view+json": {
       "model_id": "4b0b9f62fa294656ac408516a2c6224e",
       "version_major": 2,
       "version_minor": 0
      },
      "text/plain": [
       "Training agent ComBand:   0%|          | 0/10 [00:00<?, ?it/s]"
      ]
     },
     "metadata": {},
     "output_type": "display_data"
    },
    {
     "data": {
      "application/vnd.jupyter.widget-view+json": {
       "model_id": "6a6dd7f9a87249c59c9048f840699f69",
       "version_major": 2,
       "version_minor": 0
      },
      "text/plain": [
       "Training agent Casc-UCB:   0%|          | 0/10 [00:00<?, ?it/s]"
      ]
     },
     "metadata": {},
     "output_type": "display_data"
    },
    {
     "data": {
      "application/vnd.jupyter.widget-view+json": {
       "model_id": "266b2028b85f4f97bc67c2fe9286590c",
       "version_major": 2,
       "version_minor": 0
      },
      "text/plain": [
       "Training agent Casc-KL-UCB:   0%|          | 0/10 [00:00<?, ?it/s]"
      ]
     },
     "metadata": {},
     "output_type": "display_data"
    },
    {
     "data": {
      "application/vnd.jupyter.widget-view+json": {
       "model_id": "67f0a66fe2c54edea36dd02ee8422ae5",
       "version_major": 2,
       "version_minor": 0
      },
      "text/plain": [
       "Training agent MSE3:   0%|          | 0/10 [00:00<?, ?it/s]"
      ]
     },
     "metadata": {},
     "output_type": "display_data"
    },
    {
     "data": {
      "application/vnd.jupyter.widget-view+json": {
       "model_id": "63a77c56239b43fda94961671224bcd3",
       "version_major": 2,
       "version_minor": 0
      },
      "text/plain": [
       "Training agent ComBand:   0%|          | 0/10 [00:00<?, ?it/s]"
      ]
     },
     "metadata": {},
     "output_type": "display_data"
    },
    {
     "data": {
      "application/vnd.jupyter.widget-view+json": {
       "model_id": "1112934b47544c039301151ffdc87a9d",
       "version_major": 2,
       "version_minor": 0
      },
      "text/plain": [
       "Training agent Casc-UCB:   0%|          | 0/10 [00:00<?, ?it/s]"
      ]
     },
     "metadata": {},
     "output_type": "display_data"
    },
    {
     "data": {
      "application/vnd.jupyter.widget-view+json": {
       "model_id": "9e622d041bb344b2b7e0d80a3adb19cb",
       "version_major": 2,
       "version_minor": 0
      },
      "text/plain": [
       "Training agent Casc-KL-UCB:   0%|          | 0/10 [00:00<?, ?it/s]"
      ]
     },
     "metadata": {},
     "output_type": "display_data"
    },
    {
     "data": {
      "application/vnd.jupyter.widget-view+json": {
       "model_id": "30a6682fce624f3c97ca5b778796793b",
       "version_major": 2,
       "version_minor": 0
      },
      "text/plain": [
       "Training agent MSE3:   0%|          | 0/10 [00:00<?, ?it/s]"
      ]
     },
     "metadata": {},
     "output_type": "display_data"
    },
    {
     "data": {
      "application/vnd.jupyter.widget-view+json": {
       "model_id": "a2418274074b45cfb0036157c01066d7",
       "version_major": 2,
       "version_minor": 0
      },
      "text/plain": [
       "Training agent ComBand:   0%|          | 0/10 [00:00<?, ?it/s]"
      ]
     },
     "metadata": {},
     "output_type": "display_data"
    },
    {
     "data": {
      "application/vnd.jupyter.widget-view+json": {
       "model_id": "bd3cee4be92e4d54875423339142fa62",
       "version_major": 2,
       "version_minor": 0
      },
      "text/plain": [
       "Training agent Casc-UCB:   0%|          | 0/10 [00:00<?, ?it/s]"
      ]
     },
     "metadata": {},
     "output_type": "display_data"
    },
    {
     "data": {
      "application/vnd.jupyter.widget-view+json": {
       "model_id": "24bce9a8a49248e58afec5875104194a",
       "version_major": 2,
       "version_minor": 0
      },
      "text/plain": [
       "Training agent Casc-KL-UCB:   0%|          | 0/10 [00:00<?, ?it/s]"
      ]
     },
     "metadata": {},
     "output_type": "display_data"
    },
    {
     "data": {
      "application/vnd.jupyter.widget-view+json": {
       "model_id": "bae40081802c470f98397847ad5d4797",
       "version_major": 2,
       "version_minor": 0
      },
      "text/plain": [
       "Training agent MSE3:   0%|          | 0/10 [00:00<?, ?it/s]"
      ]
     },
     "metadata": {},
     "output_type": "display_data"
    },
    {
     "data": {
      "application/vnd.jupyter.widget-view+json": {
       "model_id": "661f6094ea2d453fba51b093ed5b4cef",
       "version_major": 2,
       "version_minor": 0
      },
      "text/plain": [
       "Training agent ComBand:   0%|          | 0/10 [00:00<?, ?it/s]"
      ]
     },
     "metadata": {},
     "output_type": "display_data"
    },
    {
     "data": {
      "application/vnd.jupyter.widget-view+json": {
       "model_id": "d7623ec8ba25453d91628b333cf24165",
       "version_major": 2,
       "version_minor": 0
      },
      "text/plain": [
       "Training agent Casc-UCB:   0%|          | 0/10 [00:00<?, ?it/s]"
      ]
     },
     "metadata": {},
     "output_type": "display_data"
    },
    {
     "data": {
      "application/vnd.jupyter.widget-view+json": {
       "model_id": "f313eb080d674bc88dec2bfa6d12e1c6",
       "version_major": 2,
       "version_minor": 0
      },
      "text/plain": [
       "Training agent Casc-KL-UCB:   0%|          | 0/10 [00:00<?, ?it/s]"
      ]
     },
     "metadata": {},
     "output_type": "display_data"
    },
    {
     "data": {
      "application/vnd.jupyter.widget-view+json": {
       "model_id": "d76436b25ccb49dd817d724efa74c2eb",
       "version_major": 2,
       "version_minor": 0
      },
      "text/plain": [
       "Training agent MSE3:   0%|          | 0/10 [00:00<?, ?it/s]"
      ]
     },
     "metadata": {},
     "output_type": "display_data"
    },
    {
     "data": {
      "application/vnd.jupyter.widget-view+json": {
       "model_id": "72c3f68f6da44dceb7f1d026bff2ebb7",
       "version_major": 2,
       "version_minor": 0
      },
      "text/plain": [
       "Training agent ComBand:   0%|          | 0/10 [00:00<?, ?it/s]"
      ]
     },
     "metadata": {},
     "output_type": "display_data"
    },
    {
     "data": {
      "application/vnd.jupyter.widget-view+json": {
       "model_id": "0ae2225e6cf1432781700ba3efbeae1c",
       "version_major": 2,
       "version_minor": 0
      },
      "text/plain": [
       "Training agent Casc-UCB:   0%|          | 0/10 [00:00<?, ?it/s]"
      ]
     },
     "metadata": {},
     "output_type": "display_data"
    },
    {
     "data": {
      "application/vnd.jupyter.widget-view+json": {
       "model_id": "f815843dbe3346a499d7ec2d79419939",
       "version_major": 2,
       "version_minor": 0
      },
      "text/plain": [
       "Training agent Casc-KL-UCB:   0%|          | 0/10 [00:00<?, ?it/s]"
      ]
     },
     "metadata": {},
     "output_type": "display_data"
    },
    {
     "data": {
      "application/vnd.jupyter.widget-view+json": {
       "model_id": "90a49786d8d247d291acb8253283cb70",
       "version_major": 2,
       "version_minor": 0
      },
      "text/plain": [
       "Training agent MSE3:   0%|          | 0/10 [00:00<?, ?it/s]"
      ]
     },
     "metadata": {},
     "output_type": "display_data"
    },
    {
     "data": {
      "application/vnd.jupyter.widget-view+json": {
       "model_id": "7ef3b96547f44023a9ec8d28bf062c28",
       "version_major": 2,
       "version_minor": 0
      },
      "text/plain": [
       "Training agent ComBand:   0%|          | 0/10 [00:00<?, ?it/s]"
      ]
     },
     "metadata": {},
     "output_type": "display_data"
    },
    {
     "data": {
      "application/vnd.jupyter.widget-view+json": {
       "model_id": "dc9d33ed7d3a4fa989147fa1a62e0b70",
       "version_major": 2,
       "version_minor": 0
      },
      "text/plain": [
       "Training agent Casc-UCB:   0%|          | 0/10 [00:00<?, ?it/s]"
      ]
     },
     "metadata": {},
     "output_type": "display_data"
    },
    {
     "data": {
      "application/vnd.jupyter.widget-view+json": {
       "model_id": "857d6727ff8940b7bdd12fdf43e31673",
       "version_major": 2,
       "version_minor": 0
      },
      "text/plain": [
       "Training agent Casc-KL-UCB:   0%|          | 0/10 [00:00<?, ?it/s]"
      ]
     },
     "metadata": {},
     "output_type": "display_data"
    },
    {
     "data": {
      "application/vnd.jupyter.widget-view+json": {
       "model_id": "d826be99bfaf45c8bcf1c05124cc57b3",
       "version_major": 2,
       "version_minor": 0
      },
      "text/plain": [
       "Training agent MSE3:   0%|          | 0/10 [00:00<?, ?it/s]"
      ]
     },
     "metadata": {},
     "output_type": "display_data"
    },
    {
     "data": {
      "application/vnd.jupyter.widget-view+json": {
       "model_id": "283aac8197eb4a67ba41e3caeb554748",
       "version_major": 2,
       "version_minor": 0
      },
      "text/plain": [
       "Training agent ComBand:   0%|          | 0/10 [00:00<?, ?it/s]"
      ]
     },
     "metadata": {},
     "output_type": "display_data"
    },
    {
     "data": {
      "application/vnd.jupyter.widget-view+json": {
       "model_id": "2ee31b490d114ef7b06b69192d044928",
       "version_major": 2,
       "version_minor": 0
      },
      "text/plain": [
       "Training agent Casc-UCB:   0%|          | 0/10 [00:00<?, ?it/s]"
      ]
     },
     "metadata": {},
     "output_type": "display_data"
    },
    {
     "data": {
      "application/vnd.jupyter.widget-view+json": {
       "model_id": "21c80bb5620d42c0b1fa87ad6fe94574",
       "version_major": 2,
       "version_minor": 0
      },
      "text/plain": [
       "Training agent Casc-KL-UCB:   0%|          | 0/10 [00:00<?, ?it/s]"
      ]
     },
     "metadata": {},
     "output_type": "display_data"
    },
    {
     "data": {
      "application/vnd.jupyter.widget-view+json": {
       "model_id": "e0066adde7b446fa9943415d2bf23991",
       "version_major": 2,
       "version_minor": 0
      },
      "text/plain": [
       "Training agent MSE3:   0%|          | 0/10 [00:00<?, ?it/s]"
      ]
     },
     "metadata": {},
     "output_type": "display_data"
    },
    {
     "data": {
      "application/vnd.jupyter.widget-view+json": {
       "model_id": "5538b5c076a04337a9b8d3cc103e4e16",
       "version_major": 2,
       "version_minor": 0
      },
      "text/plain": [
       "Training agent ComBand:   0%|          | 0/10 [00:00<?, ?it/s]"
      ]
     },
     "metadata": {},
     "output_type": "display_data"
    },
    {
     "data": {
      "application/vnd.jupyter.widget-view+json": {
       "model_id": "2ee8703e23db48bfb75faf5071c3ca96",
       "version_major": 2,
       "version_minor": 0
      },
      "text/plain": [
       "Training agent Casc-UCB:   0%|          | 0/10 [00:00<?, ?it/s]"
      ]
     },
     "metadata": {},
     "output_type": "display_data"
    },
    {
     "data": {
      "application/vnd.jupyter.widget-view+json": {
       "model_id": "ada7bf83abfb4085b744cd25d1ebd20f",
       "version_major": 2,
       "version_minor": 0
      },
      "text/plain": [
       "Training agent Casc-KL-UCB:   0%|          | 0/10 [00:00<?, ?it/s]"
      ]
     },
     "metadata": {},
     "output_type": "display_data"
    },
    {
     "data": {
      "application/vnd.jupyter.widget-view+json": {
       "model_id": "11c5480ca2af4bb18b78f7659a50593e",
       "version_major": 2,
       "version_minor": 0
      },
      "text/plain": [
       "Training agent MSE3:   0%|          | 0/10 [00:00<?, ?it/s]"
      ]
     },
     "metadata": {},
     "output_type": "display_data"
    },
    {
     "data": {
      "application/vnd.jupyter.widget-view+json": {
       "model_id": "c63eae2d9e874000932bdccf185e7e1b",
       "version_major": 2,
       "version_minor": 0
      },
      "text/plain": [
       "Training agent ComBand:   0%|          | 0/10 [00:00<?, ?it/s]"
      ]
     },
     "metadata": {},
     "output_type": "display_data"
    },
    {
     "data": {
      "application/vnd.jupyter.widget-view+json": {
       "model_id": "dc188f4a31ca4273b10217b07d25170d",
       "version_major": 2,
       "version_minor": 0
      },
      "text/plain": [
       "Training agent Casc-UCB:   0%|          | 0/10 [00:00<?, ?it/s]"
      ]
     },
     "metadata": {},
     "output_type": "display_data"
    },
    {
     "data": {
      "application/vnd.jupyter.widget-view+json": {
       "model_id": "b6f2b028896e4f39aeed95021accfd55",
       "version_major": 2,
       "version_minor": 0
      },
      "text/plain": [
       "Training agent Casc-KL-UCB:   0%|          | 0/10 [00:00<?, ?it/s]"
      ]
     },
     "metadata": {},
     "output_type": "display_data"
    },
    {
     "data": {
      "application/vnd.jupyter.widget-view+json": {
       "model_id": "d399885542f94cb398a3eec5bb7964e1",
       "version_major": 2,
       "version_minor": 0
      },
      "text/plain": [
       "Training agent MSE3:   0%|          | 0/10 [00:00<?, ?it/s]"
      ]
     },
     "metadata": {},
     "output_type": "display_data"
    }
   ],
   "source": [
    "from env.adv_env import Bernoulli_adv_dependent\n",
    "from src.UCB import UCBM\n",
    "from src.comband import CombBand, _dumb_sampling\n",
    "\n",
    "rng = np.random.default_rng(seed = 42)\n",
    "T = 10_000\n",
    "N = 10\n",
    "K = 20\n",
    "\n",
    "p_opt = 0.3\n",
    "p_subopt = 0.1\n",
    "\n",
    "res_list = []\n",
    "\n",
    "for M in tqdm([2,3,4,5,6,7,8,9,10]):\n",
    "    env = MAB_Bernoulli(K, M, seed = M)\n",
    "    expm = EXPM(K, M)\n",
    "    casc = CascadeBandit(K, M, method='UCB')\n",
    "    casc_kl = CascadeBandit(K, M, method='KL-UCB')\n",
    "    cb = CombBand(K,M,sampling_function=_dumb_sampling)\n",
    "    #\n",
    "    res = play_all(env, [cb, casc, casc_kl, expm], T, N, disable_tqdm_T = True)\n",
    "    res_list += [res]"
   ]
  },
  {
   "cell_type": "code",
   "execution_count": 3,
   "id": "e56753f8",
   "metadata": {},
   "outputs": [
    {
     "data": {
      "image/png": "[encoded data removed]",
      "text/plain": [
       "<Figure size 1000x600 with 1 Axes>"
      ]
     },
     "metadata": {},
     "output_type": "display_data"
    }
   ],
   "source": [
    "fig, ax = plt.subplots(figsize=(10, 6))\n",
    "tot = []\n",
    "\n",
    "colors = ['red', 'green', 'blue', 'purple']\n",
    "\n",
    "for en,i in enumerate(res_list):\n",
    "    for en2, (label, res_dict) in enumerate(i,1):\n",
    "        ind = (en * 4) + en2\n",
    "        data = np.cumsum(res_dict, axis=1)[:, -1]\n",
    "        tot += [data]\n",
    "\n",
    "        # Set color for the current subplot\n",
    "        color = colors[ind % len(colors)]\n",
    "\n",
    "        # Plot boxplot with specified color\n",
    "        ax.boxplot([data], positions=[ind], boxprops=dict(color=color))\n",
    "\n",
    "ax.set_ylabel(\"Cumulative Reward\", fontsize=15)\n",
    "ax.set_xticks(np.arange(len(tot)))\n",
    "#labels = [a for a,_ in res] * 10\n",
    "labels = [ [i,i,i,i] for i in range(2,11)]\n",
    "labels = np.array([item for sublist in labels for item in sublist])\n",
    "\n",
    "plt.xticks(\n",
    "    np.arange(4, len(labels)+4, 4), \n",
    "    np.arange(2,11)\n",
    ")\n",
    "\n",
    "legend_labels = [i for i,_ in res_list[0]]\n",
    "custom_legend = [plt.Line2D([0], [0], marker='o', color=color, label=label, linestyle='None') for label, color in zip(legend_labels, colors)]\n",
    "ax.legend(handles=custom_legend)\n",
    "\n",
    "fig.tight_layout()\n",
    "fig.savefig('./results/varying/bern_vary.pdf')"
   ]
  }
 ],
 "metadata": {
  "kernelspec": {
   "display_name": "Python 3 (ipykernel)",
   "language": "python",
   "name": "python3"
  },
  "language_info": {
   "codemirror_mode": {
    "name": "ipython",
    "version": 3
   },
   "file_extension": ".py",
   "mimetype": "text/x-python",
   "name": "python",
   "nbconvert_exporter": "python",
   "pygments_lexer": "ipython3",
   "version": "3.10.9"
  }
 },
 "nbformat": 4,
 "nbformat_minor": 5
}
